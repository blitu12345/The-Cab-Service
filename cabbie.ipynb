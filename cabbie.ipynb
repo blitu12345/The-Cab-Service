{
 "cells": [
  {
   "cell_type": "code",
   "execution_count": 15,
   "metadata": {
    "collapsed": false
   },
   "outputs": [],
   "source": [
    "import numpy as np\n",
    "import pandas as pd\n",
    "import xgboost as xg\n",
    "\n",
    "from sklearn.linear_model import LinearRegression"
   ]
  },
  {
   "cell_type": "code",
   "execution_count": 16,
   "metadata": {
    "collapsed": false
   },
   "outputs": [],
   "source": [
    "df = pd.read_csv('train.csv')\n",
    "df1 = pd.read_csv('test.csv')"
   ]
  },
  {
   "cell_type": "code",
   "execution_count": 18,
   "metadata": {
    "collapsed": false
   },
   "outputs": [
    {
     "ename": "IndentationError",
     "evalue": "expected an indented block (<ipython-input-18-77933185f50f>, line 12)",
     "output_type": "error",
     "traceback": [
      "\u001b[0;36m  File \u001b[0;32m\"<ipython-input-18-77933185f50f>\"\u001b[0;36m, line \u001b[0;32m12\u001b[0m\n\u001b[0;31m    if df[col].dtype==\"object\":\u001b[0m\n\u001b[0m     ^\u001b[0m\n\u001b[0;31mIndentationError\u001b[0m\u001b[0;31m:\u001b[0m expected an indented block\n"
     ]
    }
   ],
   "source": [
    "def preprocess(df):\n",
    "    # drop TID as its is unique ids\n",
    "    df.drop(['TID'],axis=1,inplace=True)\n",
    "\n",
    "    # drop tip_amount because it doesnt seems to add to fare,and also has many missing values\n",
    "    df.drop(['tip_amount'],axis=1,inplace=True)\n",
    "\n",
    "    # drop store_and_fwd_flag because of many missing value of more than 60 k\n",
    "    df.drop(['store_and_fwd_flag'],axis=1,inplace=True)\n",
    "    \n",
    "    for col in list(df.columns):\n",
    "        if df[col].dtype==\"object\":\n",
    "            df.drop([col],axis=1,inplace=True)\n",
    "    print \"preprocessing completed\"\n",
    "    return df.dropna()"
   ]
  },
  {
   "cell_type": "code",
   "execution_count": null,
   "metadata": {
    "collapsed": true
   },
   "outputs": [],
   "source": [
    "df = preprocess(df)\n",
    "y = df['fare_amount'].values\n",
    "x = df.drop(['fare_amount'],axis=1).values\n",
    "\n",
    "print \"fit\"\n",
    "clf = LinearRegression(df)\n",
    "clf.fit(x,y)\n",
    "\n",
    "TID = df1.TID\n",
    "print \"predict\"\n",
    "df1 = preprocess(df1)\n",
    "\n",
    "y = clf.predict(x)\n",
    "\n",
    "print \"write to csv\"\n",
    "sub = pd.DataFrame({'TID':TID,'fare_amount':y})\n",
    "sub.to_csv('sub_dirty1.csv',index=False)"
   ]
  },
  {
   "cell_type": "code",
   "execution_count": null,
   "metadata": {
    "collapsed": true
   },
   "outputs": [],
   "source": [
    "pd.read_csv('sub_dirty1.csv').info()"
   ]
  }
 ],
 "metadata": {
  "kernelspec": {
   "display_name": "Python 2",
   "language": "python",
   "name": "python2"
  },
  "language_info": {
   "codemirror_mode": {
    "name": "ipython",
    "version": 2
   },
   "file_extension": ".py",
   "mimetype": "text/x-python",
   "name": "python",
   "nbconvert_exporter": "python",
   "pygments_lexer": "ipython2",
   "version": "2.7.6"
  }
 },
 "nbformat": 4,
 "nbformat_minor": 2
}
